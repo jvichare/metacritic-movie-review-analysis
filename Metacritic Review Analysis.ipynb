{
 "cells": [
  {
   "cell_type": "markdown",
   "metadata": {},
   "source": [
    "I have used scrapy to generate a csv file containing user and critic reviews for the most discussed movies from 2010 to 2018. In this notebook, I will look at the resulting dataframe and analyze what the result is."
   ]
  },
  {
   "cell_type": "code",
   "execution_count": 1,
   "metadata": {
    "ExecuteTime": {
     "end_time": "2018-05-13T20:20:58.281493Z",
     "start_time": "2018-05-13T20:20:57.843836Z"
    }
   },
   "outputs": [],
   "source": [
    "import pandas as pd\n",
    "import numpy as np\n",
    "from matplotlib import pyplot as plt\n",
    "plt.style.use('ggplot')"
   ]
  },
  {
   "cell_type": "code",
   "execution_count": 2,
   "metadata": {
    "ExecuteTime": {
     "end_time": "2018-05-13T20:21:02.927389Z",
     "start_time": "2018-05-13T20:21:02.921531Z"
    }
   },
   "outputs": [],
   "source": [
    "%matplotlib inline"
   ]
  },
  {
   "cell_type": "code",
   "execution_count": 3,
   "metadata": {
    "ExecuteTime": {
     "end_time": "2018-05-13T20:21:14.845108Z",
     "start_time": "2018-05-13T20:21:14.842217Z"
    }
   },
   "outputs": [],
   "source": [
    "pd.set_option('display.max_columns', 50)"
   ]
  },
  {
   "cell_type": "code",
   "execution_count": 4,
   "metadata": {
    "ExecuteTime": {
     "end_time": "2018-05-13T20:22:08.924628Z",
     "start_time": "2018-05-13T20:22:08.113061Z"
    }
   },
   "outputs": [],
   "source": [
    "meta_df = pd.read_csv(\"./metacritic/metacritic.csv\")"
   ]
  },
  {
   "cell_type": "code",
   "execution_count": 10,
   "metadata": {
    "ExecuteTime": {
     "end_time": "2018-05-13T20:28:05.074109Z",
     "start_time": "2018-05-13T20:28:05.059284Z"
    }
   },
   "outputs": [
    {
     "data": {
      "text/html": [
       "<div>\n",
       "<style scoped>\n",
       "    .dataframe tbody tr th:only-of-type {\n",
       "        vertical-align: middle;\n",
       "    }\n",
       "\n",
       "    .dataframe tbody tr th {\n",
       "        vertical-align: top;\n",
       "    }\n",
       "\n",
       "    .dataframe thead th {\n",
       "        text-align: right;\n",
       "    }\n",
       "</style>\n",
       "<table border=\"1\" class=\"dataframe\">\n",
       "  <thead>\n",
       "    <tr style=\"text-align: right;\">\n",
       "      <th></th>\n",
       "      <th>movie</th>\n",
       "      <th>genre</th>\n",
       "      <th>release_date</th>\n",
       "      <th>metascore</th>\n",
       "      <th>user_score</th>\n",
       "      <th>user_type</th>\n",
       "      <th>username</th>\n",
       "      <th>review</th>\n",
       "      <th>review_score</th>\n",
       "    </tr>\n",
       "  </thead>\n",
       "  <tbody>\n",
       "    <tr>\n",
       "      <th>0</th>\n",
       "      <td>Inception</td>\n",
       "      <td>Action,Sci-Fi,Drama,Mystery,Thriller</td>\n",
       "      <td>July 16, 2010</td>\n",
       "      <td>74</td>\n",
       "      <td>8.8</td>\n",
       "      <td>user</td>\n",
       "      <td>SimonBradley</td>\n",
       "      <td>I'd like to keep my review rather to the point.</td>\n",
       "      <td>8</td>\n",
       "    </tr>\n",
       "    <tr>\n",
       "      <th>1</th>\n",
       "      <td>Inception</td>\n",
       "      <td>Action,Sci-Fi,Drama,Mystery,Thriller</td>\n",
       "      <td>July 16, 2010</td>\n",
       "      <td>74</td>\n",
       "      <td>8.8</td>\n",
       "      <td>user</td>\n",
       "      <td>ReviewCritic</td>\n",
       "      <td>Pros:</td>\n",
       "      <td>8</td>\n",
       "    </tr>\n",
       "    <tr>\n",
       "      <th>2</th>\n",
       "      <td>Inception</td>\n",
       "      <td>Action,Sci-Fi,Drama,Mystery,Thriller</td>\n",
       "      <td>July 16, 2010</td>\n",
       "      <td>74</td>\n",
       "      <td>8.8</td>\n",
       "      <td>user</td>\n",
       "      <td>fantasy</td>\n",
       "      <td>1. its theme - dream is a fascinating topic to...</td>\n",
       "      <td>10</td>\n",
       "    </tr>\n",
       "    <tr>\n",
       "      <th>3</th>\n",
       "      <td>Inception</td>\n",
       "      <td>Action,Sci-Fi,Drama,Mystery,Thriller</td>\n",
       "      <td>July 16, 2010</td>\n",
       "      <td>74</td>\n",
       "      <td>8.8</td>\n",
       "      <td>user</td>\n",
       "      <td>vikesh2206</td>\n",
       "      <td>2. its plot - there are several sweet twists a...</td>\n",
       "      <td>4</td>\n",
       "    </tr>\n",
       "    <tr>\n",
       "      <th>4</th>\n",
       "      <td>Inception</td>\n",
       "      <td>Action,Sci-Fi,Drama,Mystery,Thriller</td>\n",
       "      <td>July 16, 2010</td>\n",
       "      <td>74</td>\n",
       "      <td>8.8</td>\n",
       "      <td>user</td>\n",
       "      <td>eagleeyeviking</td>\n",
       "      <td>3. its edgy drive - although you know what's c...</td>\n",
       "      <td>1</td>\n",
       "    </tr>\n",
       "  </tbody>\n",
       "</table>\n",
       "</div>"
      ],
      "text/plain": [
       "       movie                                 genre   release_date  metascore  \\\n",
       "0  Inception  Action,Sci-Fi,Drama,Mystery,Thriller  July 16, 2010         74   \n",
       "1  Inception  Action,Sci-Fi,Drama,Mystery,Thriller  July 16, 2010         74   \n",
       "2  Inception  Action,Sci-Fi,Drama,Mystery,Thriller  July 16, 2010         74   \n",
       "3  Inception  Action,Sci-Fi,Drama,Mystery,Thriller  July 16, 2010         74   \n",
       "4  Inception  Action,Sci-Fi,Drama,Mystery,Thriller  July 16, 2010         74   \n",
       "\n",
       "   user_score user_type        username  \\\n",
       "0         8.8      user    SimonBradley   \n",
       "1         8.8      user    ReviewCritic   \n",
       "2         8.8      user         fantasy   \n",
       "3         8.8      user      vikesh2206   \n",
       "4         8.8      user  eagleeyeviking   \n",
       "\n",
       "                                              review  review_score  \n",
       "0    I'd like to keep my review rather to the point.             8  \n",
       "1                                              Pros:             8  \n",
       "2  1. its theme - dream is a fascinating topic to...            10  \n",
       "3  2. its plot - there are several sweet twists a...             4  \n",
       "4  3. its edgy drive - although you know what's c...             1  "
      ]
     },
     "execution_count": 10,
     "metadata": {},
     "output_type": "execute_result"
    }
   ],
   "source": [
    "meta_df.head(5)"
   ]
  },
  {
   "cell_type": "markdown",
   "metadata": {},
   "source": [
    "Rearranging the columns into a more easy to read way:"
   ]
  },
  {
   "cell_type": "code",
   "execution_count": 7,
   "metadata": {
    "ExecuteTime": {
     "end_time": "2018-05-13T20:25:49.685763Z",
     "start_time": "2018-05-13T20:25:49.679568Z"
    }
   },
   "outputs": [
    {
     "data": {
      "text/plain": [
       "['genre',\n",
       " 'metascore',\n",
       " 'movie',\n",
       " 'release_date',\n",
       " 'review',\n",
       " 'review_score',\n",
       " 'user_score',\n",
       " 'user_type',\n",
       " 'username']"
      ]
     },
     "execution_count": 7,
     "metadata": {},
     "output_type": "execute_result"
    }
   ],
   "source": [
    "cols = list(meta_df.columns.values)\n",
    "cols"
   ]
  },
  {
   "cell_type": "code",
   "execution_count": 8,
   "metadata": {
    "ExecuteTime": {
     "end_time": "2018-05-13T20:27:28.334798Z",
     "start_time": "2018-05-13T20:27:28.313733Z"
    }
   },
   "outputs": [],
   "source": [
    "meta_df = meta_df[['movie', 'genre', 'release_date', 'metascore', 'user_score', 'user_type', 'username', 'review', 'review_score']]"
   ]
  },
  {
   "cell_type": "code",
   "execution_count": 11,
   "metadata": {
    "ExecuteTime": {
     "end_time": "2018-05-13T20:28:09.571543Z",
     "start_time": "2018-05-13T20:28:09.556935Z"
    }
   },
   "outputs": [
    {
     "data": {
      "text/html": [
       "<div>\n",
       "<style scoped>\n",
       "    .dataframe tbody tr th:only-of-type {\n",
       "        vertical-align: middle;\n",
       "    }\n",
       "\n",
       "    .dataframe tbody tr th {\n",
       "        vertical-align: top;\n",
       "    }\n",
       "\n",
       "    .dataframe thead th {\n",
       "        text-align: right;\n",
       "    }\n",
       "</style>\n",
       "<table border=\"1\" class=\"dataframe\">\n",
       "  <thead>\n",
       "    <tr style=\"text-align: right;\">\n",
       "      <th></th>\n",
       "      <th>movie</th>\n",
       "      <th>genre</th>\n",
       "      <th>release_date</th>\n",
       "      <th>metascore</th>\n",
       "      <th>user_score</th>\n",
       "      <th>user_type</th>\n",
       "      <th>username</th>\n",
       "      <th>review</th>\n",
       "      <th>review_score</th>\n",
       "    </tr>\n",
       "  </thead>\n",
       "  <tbody>\n",
       "    <tr>\n",
       "      <th>0</th>\n",
       "      <td>Inception</td>\n",
       "      <td>Action,Sci-Fi,Drama,Mystery,Thriller</td>\n",
       "      <td>July 16, 2010</td>\n",
       "      <td>74</td>\n",
       "      <td>8.8</td>\n",
       "      <td>user</td>\n",
       "      <td>SimonBradley</td>\n",
       "      <td>I'd like to keep my review rather to the point.</td>\n",
       "      <td>8</td>\n",
       "    </tr>\n",
       "    <tr>\n",
       "      <th>1</th>\n",
       "      <td>Inception</td>\n",
       "      <td>Action,Sci-Fi,Drama,Mystery,Thriller</td>\n",
       "      <td>July 16, 2010</td>\n",
       "      <td>74</td>\n",
       "      <td>8.8</td>\n",
       "      <td>user</td>\n",
       "      <td>ReviewCritic</td>\n",
       "      <td>Pros:</td>\n",
       "      <td>8</td>\n",
       "    </tr>\n",
       "    <tr>\n",
       "      <th>2</th>\n",
       "      <td>Inception</td>\n",
       "      <td>Action,Sci-Fi,Drama,Mystery,Thriller</td>\n",
       "      <td>July 16, 2010</td>\n",
       "      <td>74</td>\n",
       "      <td>8.8</td>\n",
       "      <td>user</td>\n",
       "      <td>fantasy</td>\n",
       "      <td>1. its theme - dream is a fascinating topic to...</td>\n",
       "      <td>10</td>\n",
       "    </tr>\n",
       "    <tr>\n",
       "      <th>3</th>\n",
       "      <td>Inception</td>\n",
       "      <td>Action,Sci-Fi,Drama,Mystery,Thriller</td>\n",
       "      <td>July 16, 2010</td>\n",
       "      <td>74</td>\n",
       "      <td>8.8</td>\n",
       "      <td>user</td>\n",
       "      <td>vikesh2206</td>\n",
       "      <td>2. its plot - there are several sweet twists a...</td>\n",
       "      <td>4</td>\n",
       "    </tr>\n",
       "    <tr>\n",
       "      <th>4</th>\n",
       "      <td>Inception</td>\n",
       "      <td>Action,Sci-Fi,Drama,Mystery,Thriller</td>\n",
       "      <td>July 16, 2010</td>\n",
       "      <td>74</td>\n",
       "      <td>8.8</td>\n",
       "      <td>user</td>\n",
       "      <td>eagleeyeviking</td>\n",
       "      <td>3. its edgy drive - although you know what's c...</td>\n",
       "      <td>1</td>\n",
       "    </tr>\n",
       "  </tbody>\n",
       "</table>\n",
       "</div>"
      ],
      "text/plain": [
       "       movie                                 genre   release_date  metascore  \\\n",
       "0  Inception  Action,Sci-Fi,Drama,Mystery,Thriller  July 16, 2010         74   \n",
       "1  Inception  Action,Sci-Fi,Drama,Mystery,Thriller  July 16, 2010         74   \n",
       "2  Inception  Action,Sci-Fi,Drama,Mystery,Thriller  July 16, 2010         74   \n",
       "3  Inception  Action,Sci-Fi,Drama,Mystery,Thriller  July 16, 2010         74   \n",
       "4  Inception  Action,Sci-Fi,Drama,Mystery,Thriller  July 16, 2010         74   \n",
       "\n",
       "   user_score user_type        username  \\\n",
       "0         8.8      user    SimonBradley   \n",
       "1         8.8      user    ReviewCritic   \n",
       "2         8.8      user         fantasy   \n",
       "3         8.8      user      vikesh2206   \n",
       "4         8.8      user  eagleeyeviking   \n",
       "\n",
       "                                              review  review_score  \n",
       "0    I'd like to keep my review rather to the point.             8  \n",
       "1                                              Pros:             8  \n",
       "2  1. its theme - dream is a fascinating topic to...            10  \n",
       "3  2. its plot - there are several sweet twists a...             4  \n",
       "4  3. its edgy drive - although you know what's c...             1  "
      ]
     },
     "execution_count": 11,
     "metadata": {},
     "output_type": "execute_result"
    }
   ],
   "source": [
    "meta_df.head(5)"
   ]
  },
  {
   "cell_type": "code",
   "execution_count": 21,
   "metadata": {
    "ExecuteTime": {
     "end_time": "2018-05-13T20:33:56.597020Z",
     "start_time": "2018-05-13T20:33:56.510405Z"
    }
   },
   "outputs": [
    {
     "data": {
      "text/plain": [
       "user_score      127\n",
       "review        15953\n",
       "dtype: int64"
      ]
     },
     "execution_count": 21,
     "metadata": {},
     "output_type": "execute_result"
    }
   ],
   "source": [
    "null_col = meta_df.columns[meta_df.isnull().any()]\n",
    "\n",
    "meta_df[null_col].isnull().sum()"
   ]
  },
  {
   "cell_type": "code",
   "execution_count": 28,
   "metadata": {
    "ExecuteTime": {
     "end_time": "2018-05-13T20:36:16.493956Z",
     "start_time": "2018-05-13T20:36:16.419808Z"
    }
   },
   "outputs": [],
   "source": [
    "meta_df_no_missing = meta_df.dropna()"
   ]
  },
  {
   "cell_type": "code",
   "execution_count": 30,
   "metadata": {
    "ExecuteTime": {
     "end_time": "2018-05-13T20:36:33.437853Z",
     "start_time": "2018-05-13T20:36:33.433713Z"
    }
   },
   "outputs": [
    {
     "name": "stdout",
     "output_type": "stream",
     "text": [
      "(129805, 9)\n",
      "(113725, 9)\n"
     ]
    }
   ],
   "source": [
    "print(meta_df.shape)\n",
    "print(meta_df_no_missing.shape)"
   ]
  },
  {
   "cell_type": "markdown",
   "metadata": {},
   "source": [
    "The genres in the genre column all appear in a list, going to multiply each review to have a new observation for every genre each movie is specified as - "
   ]
  },
  {
   "cell_type": "code",
   "execution_count": 57,
   "metadata": {
    "ExecuteTime": {
     "end_time": "2018-05-13T20:44:30.064229Z",
     "start_time": "2018-05-13T20:44:30.055651Z"
    }
   },
   "outputs": [],
   "source": [
    "meta_df_genre = meta_df_no_missing.copy()"
   ]
  },
  {
   "cell_type": "code",
   "execution_count": 58,
   "metadata": {
    "ExecuteTime": {
     "end_time": "2018-05-13T20:44:30.871342Z",
     "start_time": "2018-05-13T20:44:30.588505Z"
    }
   },
   "outputs": [],
   "source": [
    "meta_df_genre.genre = meta_df_genre.genre.str.split(',')"
   ]
  },
  {
   "cell_type": "code",
   "execution_count": 59,
   "metadata": {
    "ExecuteTime": {
     "end_time": "2018-05-13T20:44:31.361388Z",
     "start_time": "2018-05-13T20:44:31.355856Z"
    }
   },
   "outputs": [
    {
     "data": {
      "text/plain": [
       "0    [Action, Sci-Fi, Drama, Mystery, Thriller]\n",
       "1    [Action, Sci-Fi, Drama, Mystery, Thriller]\n",
       "2    [Action, Sci-Fi, Drama, Mystery, Thriller]\n",
       "3    [Action, Sci-Fi, Drama, Mystery, Thriller]\n",
       "4    [Action, Sci-Fi, Drama, Mystery, Thriller]\n",
       "Name: genre, dtype: object"
      ]
     },
     "execution_count": 59,
     "metadata": {},
     "output_type": "execute_result"
    }
   ],
   "source": [
    "meta_df_genre.genre.head()"
   ]
  },
  {
   "cell_type": "code",
   "execution_count": 60,
   "metadata": {
    "ExecuteTime": {
     "end_time": "2018-05-13T20:44:32.886941Z",
     "start_time": "2018-05-13T20:44:32.442412Z"
    }
   },
   "outputs": [
    {
     "data": {
      "text/html": [
       "<div>\n",
       "<style scoped>\n",
       "    .dataframe tbody tr th:only-of-type {\n",
       "        vertical-align: middle;\n",
       "    }\n",
       "\n",
       "    .dataframe tbody tr th {\n",
       "        vertical-align: top;\n",
       "    }\n",
       "\n",
       "    .dataframe thead th {\n",
       "        text-align: right;\n",
       "    }\n",
       "</style>\n",
       "<table border=\"1\" class=\"dataframe\">\n",
       "  <thead>\n",
       "    <tr style=\"text-align: right;\">\n",
       "      <th></th>\n",
       "      <th>index</th>\n",
       "      <th>genres</th>\n",
       "    </tr>\n",
       "  </thead>\n",
       "  <tbody>\n",
       "    <tr>\n",
       "      <th>0</th>\n",
       "      <td>0</td>\n",
       "      <td>Action</td>\n",
       "    </tr>\n",
       "    <tr>\n",
       "      <th>1</th>\n",
       "      <td>0</td>\n",
       "      <td>Sci-Fi</td>\n",
       "    </tr>\n",
       "    <tr>\n",
       "      <th>2</th>\n",
       "      <td>0</td>\n",
       "      <td>Drama</td>\n",
       "    </tr>\n",
       "    <tr>\n",
       "      <th>3</th>\n",
       "      <td>0</td>\n",
       "      <td>Mystery</td>\n",
       "    </tr>\n",
       "    <tr>\n",
       "      <th>4</th>\n",
       "      <td>0</td>\n",
       "      <td>Thriller</td>\n",
       "    </tr>\n",
       "  </tbody>\n",
       "</table>\n",
       "</div>"
      ],
      "text/plain": [
       "   index    genres\n",
       "0      0    Action\n",
       "1      0    Sci-Fi\n",
       "2      0     Drama\n",
       "3      0   Mystery\n",
       "4      0  Thriller"
      ]
     },
     "execution_count": 60,
     "metadata": {},
     "output_type": "execute_result"
    }
   ],
   "source": [
    "# i keeps tracks of index\n",
    "index=0\n",
    "\n",
    "# save [index, genre] in a nested list\n",
    "genre_list = []\n",
    "for item in meta_df_genre.genre:\n",
    "    genre_list.extend(map(lambda x: [index, x], item))\n",
    "    index += 1\n",
    "    \n",
    "genre = pd.DataFrame(genre_list, columns=['index', 'genres'])\n",
    "genre.head()"
   ]
  },
  {
   "cell_type": "code",
   "execution_count": 62,
   "metadata": {
    "ExecuteTime": {
     "end_time": "2018-05-13T20:44:46.706176Z",
     "start_time": "2018-05-13T20:44:46.537047Z"
    }
   },
   "outputs": [
    {
     "data": {
      "text/html": [
       "<div>\n",
       "<style scoped>\n",
       "    .dataframe tbody tr th:only-of-type {\n",
       "        vertical-align: middle;\n",
       "    }\n",
       "\n",
       "    .dataframe tbody tr th {\n",
       "        vertical-align: top;\n",
       "    }\n",
       "\n",
       "    .dataframe thead th {\n",
       "        text-align: right;\n",
       "    }\n",
       "</style>\n",
       "<table border=\"1\" class=\"dataframe\">\n",
       "  <thead>\n",
       "    <tr style=\"text-align: right;\">\n",
       "      <th></th>\n",
       "      <th>movie</th>\n",
       "      <th>release_date</th>\n",
       "      <th>metascore</th>\n",
       "      <th>user_score</th>\n",
       "      <th>user_type</th>\n",
       "      <th>username</th>\n",
       "      <th>review</th>\n",
       "      <th>review_score</th>\n",
       "      <th>index</th>\n",
       "      <th>genres</th>\n",
       "    </tr>\n",
       "  </thead>\n",
       "  <tbody>\n",
       "    <tr>\n",
       "      <th>0</th>\n",
       "      <td>Inception</td>\n",
       "      <td>July 16, 2010</td>\n",
       "      <td>74.0</td>\n",
       "      <td>8.8</td>\n",
       "      <td>user</td>\n",
       "      <td>SimonBradley</td>\n",
       "      <td>I'd like to keep my review rather to the point.</td>\n",
       "      <td>8.0</td>\n",
       "      <td>0</td>\n",
       "      <td>Action</td>\n",
       "    </tr>\n",
       "    <tr>\n",
       "      <th>1</th>\n",
       "      <td>Inception</td>\n",
       "      <td>July 16, 2010</td>\n",
       "      <td>74.0</td>\n",
       "      <td>8.8</td>\n",
       "      <td>user</td>\n",
       "      <td>SimonBradley</td>\n",
       "      <td>I'd like to keep my review rather to the point.</td>\n",
       "      <td>8.0</td>\n",
       "      <td>0</td>\n",
       "      <td>Sci-Fi</td>\n",
       "    </tr>\n",
       "    <tr>\n",
       "      <th>2</th>\n",
       "      <td>Inception</td>\n",
       "      <td>July 16, 2010</td>\n",
       "      <td>74.0</td>\n",
       "      <td>8.8</td>\n",
       "      <td>user</td>\n",
       "      <td>SimonBradley</td>\n",
       "      <td>I'd like to keep my review rather to the point.</td>\n",
       "      <td>8.0</td>\n",
       "      <td>0</td>\n",
       "      <td>Drama</td>\n",
       "    </tr>\n",
       "    <tr>\n",
       "      <th>3</th>\n",
       "      <td>Inception</td>\n",
       "      <td>July 16, 2010</td>\n",
       "      <td>74.0</td>\n",
       "      <td>8.8</td>\n",
       "      <td>user</td>\n",
       "      <td>SimonBradley</td>\n",
       "      <td>I'd like to keep my review rather to the point.</td>\n",
       "      <td>8.0</td>\n",
       "      <td>0</td>\n",
       "      <td>Mystery</td>\n",
       "    </tr>\n",
       "    <tr>\n",
       "      <th>4</th>\n",
       "      <td>Inception</td>\n",
       "      <td>July 16, 2010</td>\n",
       "      <td>74.0</td>\n",
       "      <td>8.8</td>\n",
       "      <td>user</td>\n",
       "      <td>SimonBradley</td>\n",
       "      <td>I'd like to keep my review rather to the point.</td>\n",
       "      <td>8.0</td>\n",
       "      <td>0</td>\n",
       "      <td>Thriller</td>\n",
       "    </tr>\n",
       "  </tbody>\n",
       "</table>\n",
       "</div>"
      ],
      "text/plain": [
       "       movie   release_date  metascore  user_score user_type      username  \\\n",
       "0  Inception  July 16, 2010       74.0         8.8      user  SimonBradley   \n",
       "1  Inception  July 16, 2010       74.0         8.8      user  SimonBradley   \n",
       "2  Inception  July 16, 2010       74.0         8.8      user  SimonBradley   \n",
       "3  Inception  July 16, 2010       74.0         8.8      user  SimonBradley   \n",
       "4  Inception  July 16, 2010       74.0         8.8      user  SimonBradley   \n",
       "\n",
       "                                            review  review_score  index  \\\n",
       "0  I'd like to keep my review rather to the point.           8.0      0   \n",
       "1  I'd like to keep my review rather to the point.           8.0      0   \n",
       "2  I'd like to keep my review rather to the point.           8.0      0   \n",
       "3  I'd like to keep my review rather to the point.           8.0      0   \n",
       "4  I'd like to keep my review rather to the point.           8.0      0   \n",
       "\n",
       "     genres  \n",
       "0    Action  \n",
       "1    Sci-Fi  \n",
       "2     Drama  \n",
       "3   Mystery  \n",
       "4  Thriller  "
      ]
     },
     "execution_count": 62,
     "metadata": {},
     "output_type": "execute_result"
    }
   ],
   "source": [
    "meta_df_genre = pd.merge(meta_df_genre.drop('genre', axis=1), genre, how='right', left_index=True, right_on='index')\n",
    "\n",
    "meta_df_genre.head()"
   ]
  },
  {
   "cell_type": "code",
   "execution_count": 65,
   "metadata": {
    "ExecuteTime": {
     "end_time": "2018-05-13T20:47:36.098702Z",
     "start_time": "2018-05-13T20:47:36.093089Z"
    }
   },
   "outputs": [],
   "source": [
    "meta_df_genre.user_score = meta_df_genre.user_score * 10"
   ]
  },
  {
   "cell_type": "code",
   "execution_count": 67,
   "metadata": {
    "ExecuteTime": {
     "end_time": "2018-05-13T20:47:54.386146Z",
     "start_time": "2018-05-13T20:47:53.974800Z"
    }
   },
   "outputs": [
    {
     "name": "stdout",
     "output_type": "stream",
     "text": [
      "(406399, 10)\n"
     ]
    },
    {
     "data": {
      "image/png": "[encoded data removed]",
      "text/plain": [
       "<Figure size 432x288 with 1 Axes>"
      ]
     },
     "metadata": {},
     "output_type": "display_data"
    }
   ],
   "source": [
    "meta_df_genre.groupby('genres')['metascore', 'user_score'].mean().plot.bar(color=['b', 'r'])\n",
    "\n",
    "plt.ylabel('Averge Critic and User Score')\n",
    "\n",
    "print(meta_df_genre.shape)"
   ]
  },
  {
   "cell_type": "code",
   "execution_count": null,
   "metadata": {},
   "outputs": [],
   "source": []
  }
 ],
 "metadata": {
  "kernelspec": {
   "display_name": "Python 3",
   "language": "python",
   "name": "python3"
  },
  "language_info": {
   "codemirror_mode": {
    "name": "ipython",
    "version": 3
   },
   "file_extension": ".py",
   "mimetype": "text/x-python",
   "name": "python",
   "nbconvert_exporter": "python",
   "pygments_lexer": "ipython3",
   "version": "3.6.5"
  },
  "varInspector": {
   "cols": {
    "lenName": 16,
    "lenType": 16,
    "lenVar": 40
   },
   "kernels_config": {
    "python": {
     "delete_cmd_postfix": "",
     "delete_cmd_prefix": "del ",
     "library": "var_list.py",
     "varRefreshCmd": "print(var_dic_list())"
    },
    "r": {
     "delete_cmd_postfix": ") ",
     "delete_cmd_prefix": "rm(",
     "library": "var_list.r",
     "varRefreshCmd": "cat(var_dic_list()) "
    }
   },
   "types_to_exclude": [
    "module",
    "function",
    "builtin_function_or_method",
    "instance",
    "_Feature"
   ],
   "window_display": false
  }
 },
 "nbformat": 4,
 "nbformat_minor": 2
}
