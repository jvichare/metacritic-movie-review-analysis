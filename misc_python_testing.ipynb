{
 "cells": [
  {
   "cell_type": "code",
   "execution_count": 1,
   "metadata": {
    "ExecuteTime": {
     "end_time": "2018-05-11T12:54:18.037607Z",
     "start_time": "2018-05-11T12:54:18.034803Z"
    }
   },
   "outputs": [],
   "source": [
    "genre = ['<span>\\n                                                                                            <span>Action</span>,                                                                                            <span>Adventure</span>,                                                                                            <span>Sci-Fi</span>,                                                                                            <span>Drama</span>                                                                                    </span>']"
   ]
  },
  {
   "cell_type": "code",
   "execution_count": 5,
   "metadata": {
    "ExecuteTime": {
     "end_time": "2018-05-11T12:56:16.488907Z",
     "start_time": "2018-05-11T12:56:16.484501Z"
    }
   },
   "outputs": [
    {
     "data": {
      "text/plain": [
       "['<span>\\n                                                                                            <span>Action</span>,                                                                                            <span>Adventure</span>,                                                                                            <span>Sci-Fi</span>,                                                                                            <span>Drama</span>                                                                                    </span>']"
      ]
     },
     "execution_count": 5,
     "metadata": {},
     "output_type": "execute_result"
    }
   ],
   "source": [
    "genre"
   ]
  },
  {
   "cell_type": "code",
   "execution_count": 3,
   "metadata": {
    "ExecuteTime": {
     "end_time": "2018-05-11T13:21:03.789667Z",
     "start_time": "2018-05-11T13:21:03.787256Z"
    }
   },
   "outputs": [],
   "source": [
    "import re"
   ]
  },
  {
   "cell_type": "code",
   "execution_count": 8,
   "metadata": {
    "ExecuteTime": {
     "end_time": "2018-05-11T13:00:55.687122Z",
     "start_time": "2018-05-11T13:00:55.684411Z"
    }
   },
   "outputs": [],
   "source": [
    "genre_string = \"\".join(genre)"
   ]
  },
  {
   "cell_type": "code",
   "execution_count": 9,
   "metadata": {
    "ExecuteTime": {
     "end_time": "2018-05-11T13:01:02.287842Z",
     "start_time": "2018-05-11T13:01:02.283274Z"
    }
   },
   "outputs": [
    {
     "data": {
      "text/plain": [
       "'<span>\\n                                                                                            <span>Action</span>,                                                                                            <span>Adventure</span>,                                                                                            <span>Sci-Fi</span>,                                                                                            <span>Drama</span>                                                                                    </span>'"
      ]
     },
     "execution_count": 9,
     "metadata": {},
     "output_type": "execute_result"
    }
   ],
   "source": [
    "genre_string"
   ]
  },
  {
   "cell_type": "code",
   "execution_count": 17,
   "metadata": {
    "ExecuteTime": {
     "end_time": "2018-05-11T13:05:33.009918Z",
     "start_time": "2018-05-11T13:05:33.007133Z"
    }
   },
   "outputs": [],
   "source": [
    "clean_genre = re.findall('[A-Z]+[a-z]*\\-*[A-Z]*[a-z]*', genre_string)"
   ]
  },
  {
   "cell_type": "code",
   "execution_count": 18,
   "metadata": {
    "ExecuteTime": {
     "end_time": "2018-05-11T13:05:37.678984Z",
     "start_time": "2018-05-11T13:05:37.674602Z"
    }
   },
   "outputs": [
    {
     "data": {
      "text/plain": [
       "['Action', 'Adventure', 'Sci-Fi', 'Drama']"
      ]
     },
     "execution_count": 18,
     "metadata": {},
     "output_type": "execute_result"
    }
   ],
   "source": [
    "clean_genre"
   ]
  },
  {
   "cell_type": "code",
   "execution_count": 23,
   "metadata": {
    "ExecuteTime": {
     "end_time": "2018-05-11T13:28:53.327010Z",
     "start_time": "2018-05-11T13:28:53.324528Z"
    }
   },
   "outputs": [],
   "source": [
    "num_reviews = 'SEE ALL 163 REVIEWS'"
   ]
  },
  {
   "cell_type": "code",
   "execution_count": 26,
   "metadata": {
    "ExecuteTime": {
     "end_time": "2018-05-11T13:29:02.257119Z",
     "start_time": "2018-05-11T13:29:02.254034Z"
    }
   },
   "outputs": [],
   "source": [
    "num_reviews_clean = int(re.search('\\d+', num_reviews).group())"
   ]
  },
  {
   "cell_type": "code",
   "execution_count": 27,
   "metadata": {
    "ExecuteTime": {
     "end_time": "2018-05-11T13:29:03.613504Z",
     "start_time": "2018-05-11T13:29:03.609596Z"
    }
   },
   "outputs": [
    {
     "data": {
      "text/plain": [
       "int"
      ]
     },
     "execution_count": 27,
     "metadata": {},
     "output_type": "execute_result"
    }
   ],
   "source": [
    "type(num_reviews_clean)"
   ]
  },
  {
   "cell_type": "code",
   "execution_count": 3,
   "metadata": {
    "ExecuteTime": {
     "end_time": "2018-05-11T13:43:56.006493Z",
     "start_time": "2018-05-11T13:43:55.991774Z"
    }
   },
   "outputs": [],
   "source": [
    "critic_sources = ['Empire', 'Chicago Sun-Times', 'The Playlist', 'Uproxx', 'Tampa Bay Times', 'Consequence of Sound',\n",
    " 'Entertainment Weekly', 'IndieWire', 'Vox', 'Wall Street Journal', 'Arizona Republic', 'Los Angeles Times', 'Variety',\n",
    " 'Screen International', 'The Hollywood Reporter', 'ScreenCrush', 'ReelViews', 'RogerEbert.com',\n",
    " 'Paste Magazine',\n",
    " 'USA Today',\n",
    " 'The Globe and Mail (Toronto)',\n",
    " 'St. Louis Post-Dispatch',\n",
    " 'Rolling Stone',\n",
    " 'TheWrap',\n",
    " 'The Verge',\n",
    " 'The Film Stage',\n",
    " 'Time Out',\n",
    " 'Vanity Fair',\n",
    " 'Village Voice',\n",
    " 'New York Magazine (Vulture)',\n",
    " 'The Guardian',\n",
    " 'New York Post',\n",
    " 'The A.V. Club',\n",
    " 'The Associated Press',\n",
    " 'The Seattle Times',\n",
    " 'Philadelphia Daily News',\n",
    " 'IGN',\n",
    " 'The New York Times',\n",
    " 'Christian Science Monitor',\n",
    " 'Boston Globe',\n",
    " 'Slant Magazine',\n",
    " 'Chicago Tribune',\n",
    " 'Slate',\n",
    " 'New York Daily News',\n",
    " 'Movie Nation',\n",
    " 'The Atlantic',\n",
    " 'Austin Chronicle',\n",
    " 'Observer',\n",
    " 'San Francisco Chronicle']"
   ]
  },
  {
   "cell_type": "code",
   "execution_count": 4,
   "metadata": {
    "ExecuteTime": {
     "end_time": "2018-05-11T13:43:56.434620Z",
     "start_time": "2018-05-11T13:43:56.430085Z"
    }
   },
   "outputs": [
    {
     "data": {
      "text/plain": [
       "['Empire',\n",
       " 'Chicago Sun-Times',\n",
       " 'The Playlist',\n",
       " 'Uproxx',\n",
       " 'Tampa Bay Times',\n",
       " 'Consequence of Sound',\n",
       " 'Entertainment Weekly',\n",
       " 'IndieWire',\n",
       " 'Vox',\n",
       " 'Wall Street Journal',\n",
       " 'Arizona Republic',\n",
       " 'Los Angeles Times',\n",
       " 'Variety',\n",
       " 'Screen International',\n",
       " 'The Hollywood Reporter',\n",
       " 'ScreenCrush',\n",
       " 'ReelViews',\n",
       " 'RogerEbert.com',\n",
       " 'Paste Magazine',\n",
       " 'USA Today',\n",
       " 'The Globe and Mail (Toronto)',\n",
       " 'St. Louis Post-Dispatch',\n",
       " 'Rolling Stone',\n",
       " 'TheWrap',\n",
       " 'The Verge',\n",
       " 'The Film Stage',\n",
       " 'Time Out',\n",
       " 'Vanity Fair',\n",
       " 'Village Voice',\n",
       " 'New York Magazine (Vulture)',\n",
       " 'The Guardian',\n",
       " 'New York Post',\n",
       " 'The A.V. Club',\n",
       " 'The Associated Press',\n",
       " 'The Seattle Times',\n",
       " 'Philadelphia Daily News',\n",
       " 'IGN',\n",
       " 'The New York Times',\n",
       " 'Christian Science Monitor',\n",
       " 'Boston Globe',\n",
       " 'Slant Magazine',\n",
       " 'Chicago Tribune',\n",
       " 'Slate',\n",
       " 'New York Daily News',\n",
       " 'Movie Nation',\n",
       " 'The Atlantic',\n",
       " 'Austin Chronicle',\n",
       " 'Observer',\n",
       " 'San Francisco Chronicle']"
      ]
     },
     "execution_count": 4,
     "metadata": {},
     "output_type": "execute_result"
    }
   ],
   "source": [
    "critic_sources"
   ]
  },
  {
   "cell_type": "code",
   "execution_count": 5,
   "metadata": {
    "ExecuteTime": {
     "end_time": "2018-05-11T13:43:58.665014Z",
     "start_time": "2018-05-11T13:43:58.646654Z"
    }
   },
   "outputs": [],
   "source": [
    "critic_names = ['Jonathan Pile',\n",
    " 'Richard Roeper',\n",
    " 'Rodrigo Perez',\n",
    " 'Vince Mancini',\n",
    " 'Steve Persall',\n",
    " 'Clint Worthington',\n",
    " 'Leah Greenblatt',\n",
    " 'Eric Kohn',\n",
    " 'Alissa Wilkinson',\n",
    " 'Joe Morgenstern',\n",
    " 'Bill Goodykoontz',\n",
    " 'Justin Chang',\n",
    " 'Peter Debruge',\n",
    " 'Tim Grierson',\n",
    " 'Todd McCarthy',\n",
    " 'Matt Singer',\n",
    " 'James Berardinelli',\n",
    " 'Brian Tallerico',\n",
    " 'Will Leitch',\n",
    " 'Brian Truitt',\n",
    " 'Barry Hertz',\n",
    " 'Calvin Wilson',\n",
    " 'Peter Travers',\n",
    " 'Robert Abele',\n",
    " 'Tasha Robinson',\n",
    " 'Jordan Raup',\n",
    " 'Joshua Rothkopf',\n",
    " 'Richard Lawson',\n",
    " 'Alan Scherstuhl',\n",
    " 'Emily Yoshida',\n",
    " 'Benjamin Lee',\n",
    " 'Sara Stewart',\n",
    " 'A.A. Dowd ',\n",
    " 'Jake Coyle',\n",
    " 'Soren Andersen',\n",
    " 'Gary Thompson',\n",
    " 'Jim Vejvoda',\n",
    " 'Manohla Dargis',\n",
    " 'Peter Rainer',\n",
    " 'Peter Keough',\n",
    " 'Henry Stewart',\n",
    " 'Michael Phillips',\n",
    " 'Joe Dziemianowicz',\n",
    " 'Roger Moore',\n",
    " 'Christopher Orr',\n",
    " 'Kimberley Jones',\n",
    " 'Rex Reed',\n",
    " 'Mick LaSalle']"
   ]
  },
  {
   "cell_type": "code",
   "execution_count": 8,
   "metadata": {
    "ExecuteTime": {
     "end_time": "2018-05-11T13:44:26.096282Z",
     "start_time": "2018-05-11T13:44:26.093664Z"
    }
   },
   "outputs": [],
   "source": [
    "critics = list(zip(critic_sources, critic_names))"
   ]
  },
  {
   "cell_type": "code",
   "execution_count": 16,
   "metadata": {
    "ExecuteTime": {
     "end_time": "2018-05-11T13:46:28.111150Z",
     "start_time": "2018-05-11T13:46:28.106965Z"
    }
   },
   "outputs": [
    {
     "data": {
      "text/plain": [
       "'Empire : Jonathan Pile'"
      ]
     },
     "execution_count": 16,
     "metadata": {},
     "output_type": "execute_result"
    }
   ],
   "source": [
    "critics[0][0] + \" : \" + critics [0][1]"
   ]
  },
  {
   "cell_type": "code",
   "execution_count": null,
   "metadata": {},
   "outputs": [],
   "source": []
  }
 ],
 "metadata": {
  "kernelspec": {
   "display_name": "Python 3",
   "language": "python",
   "name": "python3"
  },
  "language_info": {
   "codemirror_mode": {
    "name": "ipython",
    "version": 3
   },
   "file_extension": ".py",
   "mimetype": "text/x-python",
   "name": "python",
   "nbconvert_exporter": "python",
   "pygments_lexer": "ipython3",
   "version": "3.6.5"
  },
  "varInspector": {
   "cols": {
    "lenName": 16,
    "lenType": 16,
    "lenVar": 40
   },
   "kernels_config": {
    "python": {
     "delete_cmd_postfix": "",
     "delete_cmd_prefix": "del ",
     "library": "var_list.py",
     "varRefreshCmd": "print(var_dic_list())"
    },
    "r": {
     "delete_cmd_postfix": ") ",
     "delete_cmd_prefix": "rm(",
     "library": "var_list.r",
     "varRefreshCmd": "cat(var_dic_list()) "
    }
   },
   "types_to_exclude": [
    "module",
    "function",
    "builtin_function_or_method",
    "instance",
    "_Feature"
   ],
   "window_display": false
  }
 },
 "nbformat": 4,
 "nbformat_minor": 2
}
