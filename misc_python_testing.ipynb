{
 "cells": [
  {
   "cell_type": "code",
   "execution_count": 1,
   "metadata": {
    "ExecuteTime": {
     "end_time": "2018-05-11T12:54:18.037607Z",
     "start_time": "2018-05-11T12:54:18.034803Z"
    }
   },
   "outputs": [],
   "source": [
    "genre = ['<span>\\n                                                                                            <span>Action</span>,                                                                                            <span>Adventure</span>,                                                                                            <span>Sci-Fi</span>,                                                                                            <span>Drama</span>                                                                                    </span>']"
   ]
  },
  {
   "cell_type": "code",
   "execution_count": 5,
   "metadata": {
    "ExecuteTime": {
     "end_time": "2018-05-11T12:56:16.488907Z",
     "start_time": "2018-05-11T12:56:16.484501Z"
    }
   },
   "outputs": [
    {
     "data": {
      "text/plain": [
       "['<span>\\n                                                                                            <span>Action</span>,                                                                                            <span>Adventure</span>,                                                                                            <span>Sci-Fi</span>,                                                                                            <span>Drama</span>                                                                                    </span>']"
      ]
     },
     "execution_count": 5,
     "metadata": {},
     "output_type": "execute_result"
    }
   ],
   "source": [
    "genre"
   ]
  },
  {
   "cell_type": "code",
   "execution_count": 6,
   "metadata": {
    "ExecuteTime": {
     "end_time": "2018-05-11T12:56:20.233901Z",
     "start_time": "2018-05-11T12:56:20.231176Z"
    }
   },
   "outputs": [],
   "source": [
    "import re"
   ]
  },
  {
   "cell_type": "code",
   "execution_count": 8,
   "metadata": {
    "ExecuteTime": {
     "end_time": "2018-05-11T13:00:55.687122Z",
     "start_time": "2018-05-11T13:00:55.684411Z"
    }
   },
   "outputs": [],
   "source": [
    "genre_string = \"\".join(genre)"
   ]
  },
  {
   "cell_type": "code",
   "execution_count": 9,
   "metadata": {
    "ExecuteTime": {
     "end_time": "2018-05-11T13:01:02.287842Z",
     "start_time": "2018-05-11T13:01:02.283274Z"
    }
   },
   "outputs": [
    {
     "data": {
      "text/plain": [
       "'<span>\\n                                                                                            <span>Action</span>,                                                                                            <span>Adventure</span>,                                                                                            <span>Sci-Fi</span>,                                                                                            <span>Drama</span>                                                                                    </span>'"
      ]
     },
     "execution_count": 9,
     "metadata": {},
     "output_type": "execute_result"
    }
   ],
   "source": [
    "genre_string"
   ]
  },
  {
   "cell_type": "code",
   "execution_count": 17,
   "metadata": {
    "ExecuteTime": {
     "end_time": "2018-05-11T13:05:33.009918Z",
     "start_time": "2018-05-11T13:05:33.007133Z"
    }
   },
   "outputs": [],
   "source": [
    "clean_genre = re.findall('[A-Z]+[a-z]*\\-*[A-Z]*[a-z]*', genre_string)"
   ]
  },
  {
   "cell_type": "code",
   "execution_count": 18,
   "metadata": {
    "ExecuteTime": {
     "end_time": "2018-05-11T13:05:37.678984Z",
     "start_time": "2018-05-11T13:05:37.674602Z"
    }
   },
   "outputs": [
    {
     "data": {
      "text/plain": [
       "['Action', 'Adventure', 'Sci-Fi', 'Drama']"
      ]
     },
     "execution_count": 18,
     "metadata": {},
     "output_type": "execute_result"
    }
   ],
   "source": [
    "clean_genre"
   ]
  },
  {
   "cell_type": "code",
   "execution_count": null,
   "metadata": {},
   "outputs": [],
   "source": []
  }
 ],
 "metadata": {
  "kernelspec": {
   "display_name": "Python 3",
   "language": "python",
   "name": "python3"
  },
  "language_info": {
   "codemirror_mode": {
    "name": "ipython",
    "version": 3
   },
   "file_extension": ".py",
   "mimetype": "text/x-python",
   "name": "python",
   "nbconvert_exporter": "python",
   "pygments_lexer": "ipython3",
   "version": "3.6.5"
  },
  "varInspector": {
   "cols": {
    "lenName": 16,
    "lenType": 16,
    "lenVar": 40
   },
   "kernels_config": {
    "python": {
     "delete_cmd_postfix": "",
     "delete_cmd_prefix": "del ",
     "library": "var_list.py",
     "varRefreshCmd": "print(var_dic_list())"
    },
    "r": {
     "delete_cmd_postfix": ") ",
     "delete_cmd_prefix": "rm(",
     "library": "var_list.r",
     "varRefreshCmd": "cat(var_dic_list()) "
    }
   },
   "types_to_exclude": [
    "module",
    "function",
    "builtin_function_or_method",
    "instance",
    "_Feature"
   ],
   "window_display": false
  }
 },
 "nbformat": 4,
 "nbformat_minor": 2
}
